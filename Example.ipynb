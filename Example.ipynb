{
 "cells": [
  {
   "cell_type": "code",
   "id": "initial_id",
   "metadata": {
    "collapsed": true,
    "ExecuteTime": {
     "end_time": "2025-03-29T16:44:26.210034Z",
     "start_time": "2025-03-29T16:44:23.560831Z"
    }
   },
   "source": [
    "import cv2\n",
    "from ultralytics import YOLO\n",
    "# Load mô hình\n",
    "model = YOLO(\"./models/yolo-11-biensoxe.pt\")\n",
    "\n",
    "import cv2\n",
    "\n",
    "def resize_image_if_larger(image_path, target_width=500):\n",
    "    img = cv2.imread(image_path)\n",
    "\n",
    "    if img is None:\n",
    "        print(f\"Không thể đọc ảnh từ đường dẫn: {image_path}\")\n",
    "        return None\n",
    "\n",
    "    height, width = img.shape[:2]\n",
    "\n",
    "    if width > target_width:\n",
    "        aspect_ratio = height / width\n",
    "        new_height = int(target_width * aspect_ratio)\n",
    "        resized_img = cv2.resize(img, (target_width, new_height))\n",
    "        return resized_img\n",
    "    else:\n",
    "        return img\n",
    "image_path = \"test.JPG\"\n",
    "# image_path = \"./sample/20250328_181740.JPG\"\n",
    "# image_path = \"./sample/DSC_0097.JPG\"\n",
    "image_path = \"./sample/DSC_0098.JPG\"\n",
    "\n",
    "resized_image = resize_image_if_larger(image_path)\n",
    "\n",
    "# Nhận diện và lấy kết quả\n",
    "# results = model(\"test.JPG\")\n",
    "results = model(resized_image)\n",
    "\n",
    "# Lấy ảnh đã có bounding box\n",
    "for result in results:\n",
    "    image_and_boxes = result.plot()\n",
    "\n",
    "    for box in result.boxes.xyxy:  # Duyệt qua các bounding box\n",
    "        x1, y1, x2, y2 = map(int, box)  # Lấy tọa độ từng box\n",
    "        plates = image_and_boxes[y1:y2, x1:x2]  # Cắt vùng biển số từ ảnh gốc\n",
    "\n",
    "# Hiển thị ảnh\n",
    "cv2.imshow(\"Detected\", image_and_boxes)\n",
    "cv2.waitKey(0)\n",
    "cv2.destroyAllWindows()\n"
   ],
   "outputs": [
    {
     "name": "stdout",
     "output_type": "stream",
     "text": [
      "\n",
      "0: 512x384 1 biensoxe, 33.9ms\n",
      "Speed: 4.3ms preprocess, 33.9ms inference, 3.6ms postprocess per image at shape (1, 3, 512, 384)\n"
     ]
    }
   ],
   "execution_count": 7
  },
  {
   "metadata": {
    "ExecuteTime": {
     "end_time": "2025-03-29T16:44:26.274254Z",
     "start_time": "2025-03-29T16:44:26.250150Z"
    }
   },
   "cell_type": "code",
   "source": [
    "import cv2\n",
    "import numpy as np\n",
    "\n",
    "def align_license_plate(plates):\n",
    "    # Bước 1: Hiển thị ảnh gốc\n",
    "    cv2.imshow(\"Original Plate\", plates)\n",
    "    cv2.waitKey(0)\n",
    "\n",
    "    # Bước 2: Chuyển ảnh sang thang xám\n",
    "    gray = cv2.cvtColor(plates, cv2.COLOR_BGR2GRAY)\n",
    "    cv2.imshow(\"Gray Scale\", gray)\n",
    "    cv2.waitKey(0)\n",
    "\n",
    "    # Bước 3: Làm mờ ảnh để giảm nhiễu\n",
    "    blurred = cv2.GaussianBlur(gray, (5, 5), 0)\n",
    "    cv2.imshow(\"Blurred\", blurred)\n",
    "    cv2.waitKey(0)\n",
    "\n",
    "    # Bước 4: Phát hiện biên bằng Canny Edge Detection\n",
    "    edges = cv2.Canny(blurred, 50, 150)\n",
    "    cv2.imshow(\"Edges\", edges)\n",
    "    cv2.waitKey(0)\n",
    "\n",
    "    # Bước 5: Tìm các đường thẳng bằng Hough Line Transform\n",
    "    lines = cv2.HoughLines(edges, 1, np.pi / 180, 100)\n",
    "\n",
    "    if lines is not None:\n",
    "        # Tính toán góc của các đường tìm thấy\n",
    "        angles = [(line[0][1] * 180 / np.pi) - 90 for line in lines]\n",
    "\n",
    "        # Lọc các góc hợp lý để tránh lỗi do nhiễu\n",
    "        valid_angles = [angle for angle in angles if -15 < angle < 15]\n",
    "\n",
    "        if valid_angles:\n",
    "            median_angle = np.median(valid_angles)  # Góc trung vị giúp tránh nhiễu\n",
    "        else:\n",
    "            median_angle = 0  # Nếu không có góc hợp lý, giữ nguyên\n",
    "\n",
    "        # Chỉ xoay nếu góc lệch đáng kể (>5 độ)\n",
    "        if abs(median_angle) > 5:\n",
    "            h, w = plates.shape[:2]\n",
    "            center = (w // 2, h // 2)\n",
    "            rotation_matrix = cv2.getRotationMatrix2D(center, median_angle, 1.0)\n",
    "            aligned_plate = cv2.warpAffine(plates, rotation_matrix, (w, h), flags=cv2.INTER_LINEAR, borderMode=cv2.BORDER_REPLICATE)\n",
    "        else:\n",
    "            aligned_plate = plates.copy()\n",
    "    else:\n",
    "        aligned_plate = plates.copy()\n",
    "\n",
    "    # Hiển thị ảnh căn chỉnh\n",
    "    cv2.imshow(\"Aligned Plate\", aligned_plate)\n",
    "    cv2.waitKey(0)\n",
    "    cv2.destroyAllWindows()\n",
    "\n",
    "    return aligned_plate\n"
   ],
   "id": "d8bd53ac7f893196",
   "outputs": [],
   "execution_count": 8
  },
  {
   "metadata": {
    "ExecuteTime": {
     "end_time": "2025-03-29T16:44:28.836178Z",
     "start_time": "2025-03-29T16:44:26.322878Z"
    }
   },
   "cell_type": "code",
   "source": [
    "import matplotlib.pyplot as plt\n",
    "import numpy as np\n",
    "if plates is not None:\n",
    "    aligned_plate = align_license_plate(plates)\n",
    "\n",
    "    # Chuyển ảnh BGR (OpenCV) sang RGB (Matplotlib)\n",
    "    aligned_plate_rgb = cv2.cvtColor(aligned_plate, cv2.COLOR_BGR2RGB)\n",
    "\n",
    "    plt.imshow(aligned_plate_rgb)\n",
    "    plt.axis(\"off\")\n",
    "    plt.title(\"Aligned Plate\")\n",
    "    plt.show()\n"
   ],
   "id": "6f078d7bf50f80ec",
   "outputs": [
    {
     "data": {
      "text/plain": [
       "<Figure size 640x480 with 1 Axes>"
      ],
      "image/png": "[encoded data removed]"
     },
     "metadata": {},
     "output_type": "display_data"
    }
   ],
   "execution_count": 9
  },
  {
   "metadata": {
    "ExecuteTime": {
     "end_time": "2025-03-29T16:44:31.176659Z",
     "start_time": "2025-03-29T16:44:31.165116Z"
    }
   },
   "cell_type": "code",
   "source": [
    "import cv2\n",
    "import numpy as np\n",
    "# Hàm biến ảnh thành vuông\n",
    "def convert2Square(img, size=28):\n",
    "\n",
    "    h, w = img.shape[:2]\n",
    "    max_dim = max(h, w)  # Kích thước lớn nhất để làm chuẩn\n",
    "\n",
    "    # Tạo ảnh vuông có nền đen\n",
    "    square_img = np.zeros((max_dim, max_dim), dtype=np.uint8)\n",
    "\n",
    "    # Canh giữa ký tự trong ảnh vuông\n",
    "    y_offset = (max_dim - h) // 2\n",
    "    x_offset = (max_dim - w) // 2\n",
    "    square_img[y_offset:y_offset + h, x_offset:x_offset + w] = img\n",
    "\n",
    "    # Resize về 28x28\n",
    "    final_img = cv2.resize(square_img, (size, size), interpolation=cv2.INTER_AREA)\n",
    "\n",
    "    return final_img\n"
   ],
   "id": "725944c7daf8dfa1",
   "outputs": [],
   "execution_count": 10
  },
  {
   "metadata": {
    "ExecuteTime": {
     "end_time": "2025-03-29T16:44:31.661619Z",
     "start_time": "2025-03-29T16:44:31.634676Z"
    }
   },
   "cell_type": "code",
   "source": [
    "import cv2\n",
    "import numpy as np\n",
    "from skimage import measure\n",
    "from skimage.filters import threshold_local\n",
    "import imutils\n",
    "\n",
    "# Phân đoạn ký tự\n",
    "def segment_characters(aligned_plate):\n",
    "    # Bước 1: Chuyển sang không gian màu HSV và lấy kênh V (độ sáng)\n",
    "    V = cv2.split(cv2.cvtColor(aligned_plate, cv2.COLOR_BGR2HSV))[2]\n",
    "\n",
    "    # Bước 2: Áp dụng adaptive threshold\n",
    "    T = threshold_local(V, 15, offset=10, method=\"gaussian\")\n",
    "    thresh = (V > T).astype(\"uint8\") * 255\n",
    "    # cv2.imshow(\"Adaptive Threshold\", thresh)\n",
    "    # cv2.waitKey(0)\n",
    "    # cv2.destroyAllWindows()\n",
    "\n",
    "    # Bước 3: Đảo màu chữ trắng, nền đen\n",
    "    thresh = cv2.bitwise_not(thresh)\n",
    "\n",
    "    # Bước 4: Resize ảnh để thống nhất kích thước xử lý\n",
    "    thresh = imutils.resize(thresh, width=400)\n",
    "\n",
    "    # Bước 5: Làm mờ ảnh để giảm nhiễu\n",
    "    thresh = cv2.medianBlur(thresh, 5)\n",
    "    # cv2.imshow(\"Bitwise\", thresh)\n",
    "    # cv2.waitKey(0)\n",
    "    # cv2.destroyAllWindows()\n",
    "\n",
    "    # Bước 6: Phân tích thành phần liên kết (Connected Components)\n",
    "    labels = measure.label(thresh, connectivity=2, background=0)\n",
    "    candidates = []  # Danh sách lưu cặp (ảnh, tọa độ)\n",
    "\n",
    "    for label in np.unique(labels):\n",
    "        if label == 0:\n",
    "            continue\n",
    "\n",
    "        # tạo mask chỉ chứa thành phần hiện tại\n",
    "        mask = np.zeros(thresh.shape, dtype=\"uint8\")\n",
    "        mask[labels == label] = 255\n",
    "\n",
    "        # tìm contour của thành phần\n",
    "        contours, _ = cv2.findContours(mask, cv2.RETR_EXTERNAL, cv2.CHAIN_APPROX_SIMPLE)\n",
    "        if len(contours) > 0:\n",
    "            contour = max(contours, key=cv2.contourArea)\n",
    "            (x, y, w, h) = cv2.boundingRect(contour)\n",
    "\n",
    "            # lọc bỏ các vùng không phải ký tự\n",
    "            aspectRatio = w / float(h)\n",
    "            solidity = cv2.contourArea(contour) / float(w * h)\n",
    "            heightRatio = h / float(aligned_plate.shape[0])\n",
    "\n",
    "            if 0.1 < aspectRatio < 1.0 and solidity > 0.1 and 0.35 < heightRatio < 2.0:\n",
    "                char_img = mask[y:y + h, x:x + w]\n",
    "                char_img = convert2Square(char_img, size=28)\n",
    "                char_img = char_img.reshape((28, 28, 1))\n",
    "                candidates.append((char_img, (y, x)))\n",
    "\n",
    "    candidates = sorted(candidates, key=lambda c: c[1][1])\n",
    "    return candidates"
   ],
   "id": "69465e2caa4da6ce",
   "outputs": [],
   "execution_count": 11
  },
  {
   "metadata": {
    "ExecuteTime": {
     "end_time": "2025-03-29T16:44:39.359698Z",
     "start_time": "2025-03-29T16:44:37.226677Z"
    }
   },
   "cell_type": "code",
   "source": [
    "import matplotlib.pyplot as plt\n",
    "import numpy as np\n",
    "\n",
    "characters = segment_characters(aligned_plate)  # Phân đoạn ký tự\n",
    "\n",
    "if not characters:  # Kiểm tra nếu None hoặc rỗng\n",
    "    print(\"Không tìm thấy ký tự nào trên biển số.\")\n",
    "else:\n",
    "    cols = 5  # Cố định số cột\n",
    "    rows = (len(characters) + cols - 1) // cols  # Tính số hàng đủ để chứa ký tự\n",
    "\n",
    "    fig, axes = plt.subplots(rows, cols, figsize=(cols * 2, rows * 2))\n",
    "    axes = axes.flatten()  # Chuyển thành danh sách truy cập dễ dàng\n",
    "\n",
    "    for i, (char_img, (y, x)) in enumerate(characters):\n",
    "        axes[i].imshow(char_img, cmap=\"gray\")\n",
    "        axes[i].axis(\"off\")\n",
    "        axes[i].set_title(f\"y={y}, x={x}\")\n",
    "\n",
    "    # Ẩn các ô trống nếu số ký tự không đủ hàng x cột\n",
    "    for i in range(len(characters), len(axes)):\n",
    "        axes[i].axis(\"off\")\n",
    "\n",
    "    plt.tight_layout()\n",
    "    plt.show()\n"
   ],
   "id": "b80ec6ddc8392670",
   "outputs": [
    {
     "data": {
      "text/plain": [
       "<Figure size 1000x600 with 15 Axes>"
      ],
      "image/png": "[encoded data removed]"
     },
     "metadata": {},
     "output_type": "display_data"
    }
   ],
   "execution_count": 12
  },
  {
   "metadata": {
    "ExecuteTime": {
     "end_time": "2025-03-29T05:08:29.187051Z",
     "start_time": "2025-03-29T05:08:27.844Z"
    }
   },
   "cell_type": "code",
   "source": [
    "import os\n",
    "import cv2\n",
    "\n",
    "\n",
    "# output_folder = \"./Traning-cnn/segment-char/29A-23336\"\n",
    "# output_folder = \"./Traning-cnn/segment-char/61LD-02896\"\n",
    "output_folder = \"./Traning-cnn/segment-char/29AA-87148\"\n",
    "os.makedirs(output_folder, exist_ok=True)\n",
    "\n",
    "characters = segment_characters(aligned_plate)\n",
    "\n",
    "for i, (char_img, (y, x)) in enumerate(characters):\n",
    "    filename = os.path.join(output_folder, f\"char_{i+1}.png\")\n",
    "    cv2.imwrite(filename, char_img)\n",
    "    print(f\"Saved {filename}\")"
   ],
   "id": "742ffe1d70a09897",
   "outputs": [
    {
     "name": "stdout",
     "output_type": "stream",
     "text": [
      "Saved ./Traning-cnn/segment-char/29AA-87148\\char_1.png\n",
      "Saved ./Traning-cnn/segment-char/29AA-87148\\char_2.png\n",
      "Saved ./Traning-cnn/segment-char/29AA-87148\\char_3.png\n",
      "Saved ./Traning-cnn/segment-char/29AA-87148\\char_4.png\n",
      "Saved ./Traning-cnn/segment-char/29AA-87148\\char_5.png\n",
      "Saved ./Traning-cnn/segment-char/29AA-87148\\char_6.png\n",
      "Saved ./Traning-cnn/segment-char/29AA-87148\\char_7.png\n",
      "Saved ./Traning-cnn/segment-char/29AA-87148\\char_8.png\n",
      "Saved ./Traning-cnn/segment-char/29AA-87148\\char_9.png\n",
      "Saved ./Traning-cnn/segment-char/29AA-87148\\char_10.png\n"
     ]
    }
   ],
   "execution_count": 24
  },
  {
   "metadata": {
    "ExecuteTime": {
     "end_time": "2025-03-29T16:45:40.943530Z",
     "start_time": "2025-03-29T16:45:30.346786Z"
    }
   },
   "cell_type": "code",
   "source": [
    "import numpy as np\n",
    "from tensorflow.keras.models import load_model\n",
    "\n",
    "# ALPHA_DICT = {0: '0', 1: '1', 2: '2', 3: '3', 4: '4', 5: '5', 6: '6', 7: '7', 8: '8', 9: '9',\n",
    "#               10: 'A', 11: 'B', 12: 'C', 13: 'D', 14: 'E', 15: 'F', 16: 'G', 17: 'H', 18: 'K', 19: 'L',\n",
    "#               20: 'M', 21: 'N', 22: 'P', 23: 'R', 24: 'S', 25: 'T', 26: 'U', 27: 'V', 28: 'X', 29: 'Y',\n",
    "#               30: 'Z', 31: 'Background'}\n",
    "ALPHA_DICT = {\n",
    "    0: '0', 1: '1', 2: '2', 3: '3', 4: '4', 5: '5', 6: '6', 7: '7', 8: '8', 9: '9',\n",
    "    10: 'A', 11: 'B', 12: 'Background', 13: 'C', 14: 'D', 15: 'E', 16: 'F', 17: 'G', 18: 'H',\n",
    "    19: 'K', 20: 'L', 21: 'M', 22: 'N', 23: 'P', 24: 'R', 25: 'S', 26: 'T', 27: 'U',\n",
    "    28: 'V', 29: 'X', 30: 'Y', 31: 'Z'}\n",
    "\n",
    "class LicensePlateRecognizer:\n",
    "    def __init__(self, model_path):\n",
    "        self.recogChar = load_model(model_path)\n",
    "        self.candidates = []\n",
    "\n",
    "    def recognize_characters(self, candidates):\n",
    "        if not candidates:\n",
    "            print(\"Khong co ki tu nao duoc nhan dien.\")\n",
    "            return []\n",
    "\n",
    "        characters = np.array([char for char, _ in candidates]) / 255.0  # Chuẩn hóa pixel\n",
    "        coordinates = [coord for _, coord in candidates]\n",
    "\n",
    "        # Nhận diện ký tự\n",
    "        results = self.recogChar.predict_on_batch(characters)\n",
    "        result_idx = np.argmax(results, axis=1)\n",
    "\n",
    "        # Lưu lại các ký tự nhận diện được\n",
    "        recognized_chars = [(ALPHA_DICT[idx], coord) for idx, coord in zip(result_idx, coordinates) if idx != 12]\n",
    "        self.candidates = recognized_chars\n",
    "\n",
    "    def get_recognized_text(self):\n",
    "        if not self.candidates:\n",
    "            return \"\"\n",
    "\n",
    "        return \"\".join([char for char, _ in sorted(self.candidates, key=lambda x: x[1][1])])  # Sắp xếp theo x\n",
    "\n",
    "    def format(self):\n",
    "        if not self.candidates:\n",
    "            return \"\"\n",
    "\n",
    "        # Xác định giá trị y trung bình\n",
    "        y_values = [coord[0] for _, coord in self.candidates]\n",
    "        y_mean = np.mean(y_values)\n",
    "\n",
    "        first_line, second_line = [], []\n",
    "        for char, coord in self.candidates:\n",
    "            if coord[0] < y_mean:  # Nếu y nhỏ hơn trung bình => dòng trên\n",
    "                first_line.append((char, coord[1]))  # Lưu theo x\n",
    "            else:\n",
    "                second_line.append((char, coord[1]))\n",
    "\n",
    "        # Sắp xếp từ trái sang phải theo x\n",
    "        first_line.sort(key=lambda s: s[1])\n",
    "        second_line.sort(key=lambda s: s[1])\n",
    "\n",
    "        if not second_line:\n",
    "            return \"\".join([char for char, _ in first_line])\n",
    "        else:\n",
    "            return \"\".join([char for char, _ in first_line]) + \"-\" + \"\".join([char for char, _ in second_line])\n",
    "\n",
    "\n"
   ],
   "id": "2ca4c8238f304b1e",
   "outputs": [],
   "execution_count": 13
  },
  {
   "metadata": {
    "ExecuteTime": {
     "end_time": "2025-03-29T16:45:43.320091Z",
     "start_time": "2025-03-29T16:45:42.187681Z"
    }
   },
   "cell_type": "code",
   "source": [
    "# --- Sử dụng ---\n",
    "model_path = \"./Traning-cnn/cnn/model/license_plate_char_pro_max.h5\"\n",
    "recognizer = LicensePlateRecognizer(model_path)\n",
    "\n",
    "# Gọi phân đoạn ký tự trước\n",
    "# candidates = segment_characters(aligned_plate)\n",
    "\n",
    "# Nhận diện ký tự\n",
    "recognizer.recognize_characters(characters)\n",
    "plate_number = recognizer.format()\n",
    "\n",
    "print(\"Biển số xe:\", plate_number)"
   ],
   "id": "3470818bb14b841b",
   "outputs": [
    {
     "name": "stderr",
     "output_type": "stream",
     "text": [
      "WARNING:absl:Compiled the loaded model, but the compiled metrics have yet to be built. `model.compile_metrics` will be empty until you train or evaluate the model.\n"
     ]
    },
    {
     "name": "stdout",
     "output_type": "stream",
     "text": [
      "Biển số xe: 29BA-05706\n"
     ]
    }
   ],
   "execution_count": 14
  },
  {
   "metadata": {},
   "cell_type": "code",
   "outputs": [],
   "execution_count": null,
   "source": "",
   "id": "84fec9aaea12593c"
  }
 ],
 "metadata": {
  "kernelspec": {
   "display_name": "Python 3",
   "language": "python",
   "name": "python3"
  },
  "language_info": {
   "codemirror_mode": {
    "name": "ipython",
    "version": 2
   },
   "file_extension": ".py",
   "mimetype": "text/x-python",
   "name": "python",
   "nbconvert_exporter": "python",
   "pygments_lexer": "ipython2",
   "version": "2.7.6"
  }
 },
 "nbformat": 4,
 "nbformat_minor": 5
}
